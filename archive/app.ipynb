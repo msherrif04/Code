{
 "cells": [
  {
   "cell_type": "markdown",
   "metadata": {},
   "source": [
    "# Creating the database"
   ]
  },
  {
   "cell_type": "code",
   "execution_count": 7,
   "metadata": {},
   "outputs": [],
   "source": [
    "from sqlalchemy import create_engine\n",
    "import pandas as pd"
   ]
  },
  {
   "cell_type": "code",
   "execution_count": 110,
   "metadata": {},
   "outputs": [],
   "source": [
    "# loading data\n",
    "def load_data(file_path, sheet_name):\n",
    "    card_columns = {\n",
    "        \"due\": None,\n",
    "        \"stability\": 0,\n",
    "        \"difficulty\": 0,\n",
    "        \"elapsed_days\": 0,\n",
    "        \"scheduled_days\": 0,\n",
    "        \"reps\": 0,\n",
    "        \"lapses\": 0,\n",
    "        \"state\": None,\n",
    "    }\n",
    "    df = pd.read_excel(file_path, sheet_name=sheet_name)\n",
    "    df = df.assign(**card_columns)\n",
    "    df.rename(columns={\"S/N\": \"Question_number\"}, inplace=True)\n",
    "    return df\n",
    "\n",
    "\n",
    "def add_questions_to_table(df):\n",
    "    engine = create_engine(\"sqlite:///flashcard_ai.db\")\n",
    "    table_name = \"flashcards\"\n",
    "    df.to_sql(table_name, engine, if_exists=\"append\", index=False)\n",
    "    return \"Added questions to table\""
   ]
  },
  {
   "cell_type": "code",
   "execution_count": 111,
   "metadata": {},
   "outputs": [
    {
     "data": {
      "text/html": [
       "<div>\n",
       "<style scoped>\n",
       "    .dataframe tbody tr th:only-of-type {\n",
       "        vertical-align: middle;\n",
       "    }\n",
       "\n",
       "    .dataframe tbody tr th {\n",
       "        vertical-align: top;\n",
       "    }\n",
       "\n",
       "    .dataframe thead th {\n",
       "        text-align: right;\n",
       "    }\n",
       "</style>\n",
       "<table border=\"1\" class=\"dataframe\">\n",
       "  <thead>\n",
       "    <tr style=\"text-align: right;\">\n",
       "      <th></th>\n",
       "      <th>Question_number</th>\n",
       "      <th>Has Preamble</th>\n",
       "      <th>Preamble Text</th>\n",
       "      <th>Question</th>\n",
       "      <th>Question has figure</th>\n",
       "      <th>Question figure name</th>\n",
       "      <th>Answer has figure</th>\n",
       "      <th>Answer figure name</th>\n",
       "      <th>Answer</th>\n",
       "      <th>calculations present</th>\n",
       "      <th>Subject</th>\n",
       "      <th>due</th>\n",
       "      <th>stability</th>\n",
       "      <th>difficulty</th>\n",
       "      <th>elapsed_days</th>\n",
       "      <th>scheduled_days</th>\n",
       "      <th>reps</th>\n",
       "      <th>lapses</th>\n",
       "      <th>state</th>\n",
       "    </tr>\n",
       "  </thead>\n",
       "  <tbody>\n",
       "    <tr>\n",
       "      <th>0</th>\n",
       "      <td>1</td>\n",
       "      <td>Yes</td>\n",
       "      <td>Solve the equation for $x$</td>\n",
       "      <td>$\\log \\left(x^{2}-15 x\\right)=2$</td>\n",
       "      <td>No</td>\n",
       "      <td>NaN</td>\n",
       "      <td>No</td>\n",
       "      <td>NaN</td>\n",
       "      <td>$x=20,-5$\\n$\\left[x^{2}-15 x=100, x^{2}-15 x-1...</td>\n",
       "      <td>Yes</td>\n",
       "      <td>Mathematics</td>\n",
       "      <td>None</td>\n",
       "      <td>0</td>\n",
       "      <td>0</td>\n",
       "      <td>0</td>\n",
       "      <td>0</td>\n",
       "      <td>0</td>\n",
       "      <td>0</td>\n",
       "      <td>None</td>\n",
       "    </tr>\n",
       "    <tr>\n",
       "      <th>1</th>\n",
       "      <td>2</td>\n",
       "      <td>Yes</td>\n",
       "      <td>Solve the equation for $x$</td>\n",
       "      <td>$\\log _{3}\\left(x^{2}+6 x\\right)=3$</td>\n",
       "      <td>No</td>\n",
       "      <td>NaN</td>\n",
       "      <td>No</td>\n",
       "      <td>NaN</td>\n",
       "      <td>$x=3,-9$\\n$\\left[x^{2}+6 x=27, x^{2}+6 x-27=(x...</td>\n",
       "      <td>Yes</td>\n",
       "      <td>Mathematics</td>\n",
       "      <td>None</td>\n",
       "      <td>0</td>\n",
       "      <td>0</td>\n",
       "      <td>0</td>\n",
       "      <td>0</td>\n",
       "      <td>0</td>\n",
       "      <td>0</td>\n",
       "      <td>None</td>\n",
       "    </tr>\n",
       "    <tr>\n",
       "      <th>2</th>\n",
       "      <td>3</td>\n",
       "      <td>Yes</td>\n",
       "      <td>Solve the equation for $x$</td>\n",
       "      <td>$\\log _{5}\\left(x^{2}+24 x\\right)=2$,</td>\n",
       "      <td>No</td>\n",
       "      <td>NaN</td>\n",
       "      <td>No</td>\n",
       "      <td>NaN</td>\n",
       "      <td>$x=-25,1$\\n$\\left[x^{2}+24 x=25, x^{2}+24 x-25...</td>\n",
       "      <td>Yes</td>\n",
       "      <td>Mathematics</td>\n",
       "      <td>None</td>\n",
       "      <td>0</td>\n",
       "      <td>0</td>\n",
       "      <td>0</td>\n",
       "      <td>0</td>\n",
       "      <td>0</td>\n",
       "      <td>0</td>\n",
       "      <td>None</td>\n",
       "    </tr>\n",
       "    <tr>\n",
       "      <th>3</th>\n",
       "      <td>4</td>\n",
       "      <td>Yes</td>\n",
       "      <td>$\\mathrm{n}$ is a positive integer. Solve for ...</td>\n",
       "      <td>$\\mathrm{nC}_{2}=36 \\quad($ read as ' $\\mathrm...</td>\n",
       "      <td>No</td>\n",
       "      <td>NaN</td>\n",
       "      <td>No</td>\n",
       "      <td>NaN</td>\n",
       "      <td>$\\mathbf{n}=\\mathbf{9}$\\n$\\left[n(n-1) / 2=36,...</td>\n",
       "      <td>Yes</td>\n",
       "      <td>Mathematics</td>\n",
       "      <td>None</td>\n",
       "      <td>0</td>\n",
       "      <td>0</td>\n",
       "      <td>0</td>\n",
       "      <td>0</td>\n",
       "      <td>0</td>\n",
       "      <td>0</td>\n",
       "      <td>None</td>\n",
       "    </tr>\n",
       "    <tr>\n",
       "      <th>4</th>\n",
       "      <td>5</td>\n",
       "      <td>Yes</td>\n",
       "      <td>$\\mathrm{n}$ is a positive integer. Solve for ...</td>\n",
       "      <td>$(\\mathrm{n}+1) \\mathrm{C}_{2}=78$</td>\n",
       "      <td>No</td>\n",
       "      <td>NaN</td>\n",
       "      <td>No</td>\n",
       "      <td>NaN</td>\n",
       "      <td>$n=12$\\n$\\left[(n+1) n / 2=(78), n^{2}+n-156=(...</td>\n",
       "      <td>Yes</td>\n",
       "      <td>Mathematics</td>\n",
       "      <td>None</td>\n",
       "      <td>0</td>\n",
       "      <td>0</td>\n",
       "      <td>0</td>\n",
       "      <td>0</td>\n",
       "      <td>0</td>\n",
       "      <td>0</td>\n",
       "      <td>None</td>\n",
       "    </tr>\n",
       "  </tbody>\n",
       "</table>\n",
       "</div>"
      ],
      "text/plain": [
       "   Question_number Has Preamble  \\\n",
       "0                1          Yes   \n",
       "1                2          Yes   \n",
       "2                3          Yes   \n",
       "3                4          Yes   \n",
       "4                5          Yes   \n",
       "\n",
       "                                       Preamble Text  \\\n",
       "0                         Solve the equation for $x$   \n",
       "1                         Solve the equation for $x$   \n",
       "2                         Solve the equation for $x$   \n",
       "3  $\\mathrm{n}$ is a positive integer. Solve for ...   \n",
       "4  $\\mathrm{n}$ is a positive integer. Solve for ...   \n",
       "\n",
       "                                            Question Question has figure  \\\n",
       "0                   $\\log \\left(x^{2}-15 x\\right)=2$                  No   \n",
       "1                $\\log _{3}\\left(x^{2}+6 x\\right)=3$                  No   \n",
       "2              $\\log _{5}\\left(x^{2}+24 x\\right)=2$,                  No   \n",
       "3  $\\mathrm{nC}_{2}=36 \\quad($ read as ' $\\mathrm...                  No   \n",
       "4                 $(\\mathrm{n}+1) \\mathrm{C}_{2}=78$                  No   \n",
       "\n",
       "   Question figure name Answer has figure  Answer figure name  \\\n",
       "0                   NaN                No                 NaN   \n",
       "1                   NaN                No                 NaN   \n",
       "2                   NaN                No                 NaN   \n",
       "3                   NaN                No                 NaN   \n",
       "4                   NaN                No                 NaN   \n",
       "\n",
       "                                              Answer calculations present  \\\n",
       "0  $x=20,-5$\\n$\\left[x^{2}-15 x=100, x^{2}-15 x-1...                  Yes   \n",
       "1  $x=3,-9$\\n$\\left[x^{2}+6 x=27, x^{2}+6 x-27=(x...                  Yes   \n",
       "2  $x=-25,1$\\n$\\left[x^{2}+24 x=25, x^{2}+24 x-25...                  Yes   \n",
       "3  $\\mathbf{n}=\\mathbf{9}$\\n$\\left[n(n-1) / 2=36,...                  Yes   \n",
       "4  $n=12$\\n$\\left[(n+1) n / 2=(78), n^{2}+n-156=(...                  Yes   \n",
       "\n",
       "       Subject   due  stability  difficulty  elapsed_days  scheduled_days  \\\n",
       "0  Mathematics  None          0           0             0               0   \n",
       "1  Mathematics  None          0           0             0               0   \n",
       "2  Mathematics  None          0           0             0               0   \n",
       "3  Mathematics  None          0           0             0               0   \n",
       "4  Mathematics  None          0           0             0               0   \n",
       "\n",
       "   reps  lapses state  \n",
       "0     0       0  None  \n",
       "1     0       0  None  \n",
       "2     0       0  None  \n",
       "3     0       0  None  \n",
       "4     0       0  None  "
      ]
     },
     "execution_count": 111,
     "metadata": {},
     "output_type": "execute_result"
    }
   ],
   "source": [
    "df = load_data(\"data/2021/2021 NSMQ contest 9.xlsx\", sheet_name=\"Round 1\")\n",
    "df.head()"
   ]
  },
  {
   "cell_type": "code",
   "execution_count": 112,
   "metadata": {},
   "outputs": [
    {
     "data": {
      "text/plain": [
       "'Added questions to table'"
      ]
     },
     "execution_count": 112,
     "metadata": {},
     "output_type": "execute_result"
    }
   ],
   "source": [
    "add_questions_to_table(df)"
   ]
  },
  {
   "cell_type": "code",
   "execution_count": 45,
   "metadata": {},
   "outputs": [
    {
     "data": {
      "text/html": [
       "<div>\n",
       "<style scoped>\n",
       "    .dataframe tbody tr th:only-of-type {\n",
       "        vertical-align: middle;\n",
       "    }\n",
       "\n",
       "    .dataframe tbody tr th {\n",
       "        vertical-align: top;\n",
       "    }\n",
       "\n",
       "    .dataframe thead th {\n",
       "        text-align: right;\n",
       "    }\n",
       "</style>\n",
       "<table border=\"1\" class=\"dataframe\">\n",
       "  <thead>\n",
       "    <tr style=\"text-align: right;\">\n",
       "      <th></th>\n",
       "      <th>S/N</th>\n",
       "      <th>Has Preamble</th>\n",
       "      <th>Preamble Text</th>\n",
       "      <th>Question</th>\n",
       "      <th>Question has figure</th>\n",
       "      <th>Question figure name</th>\n",
       "      <th>Answer has figure</th>\n",
       "      <th>Answer figure name</th>\n",
       "      <th>Answer</th>\n",
       "      <th>calculations present</th>\n",
       "      <th>Subject</th>\n",
       "    </tr>\n",
       "  </thead>\n",
       "  <tbody>\n",
       "    <tr>\n",
       "      <th>0</th>\n",
       "      <td>1</td>\n",
       "      <td>Yes</td>\n",
       "      <td>Solve the equation for $x$</td>\n",
       "      <td>$\\log \\left(x^{2}-15 x\\right)=2$</td>\n",
       "      <td>No</td>\n",
       "      <td>NaN</td>\n",
       "      <td>No</td>\n",
       "      <td>NaN</td>\n",
       "      <td>$x=20,-5$\\n$\\left[x^{2}-15 x=100, x^{2}-15 x-1...</td>\n",
       "      <td>Yes</td>\n",
       "      <td>Mathematics</td>\n",
       "    </tr>\n",
       "    <tr>\n",
       "      <th>1</th>\n",
       "      <td>2</td>\n",
       "      <td>Yes</td>\n",
       "      <td>Solve the equation for $x$</td>\n",
       "      <td>$\\log _{3}\\left(x^{2}+6 x\\right)=3$</td>\n",
       "      <td>No</td>\n",
       "      <td>NaN</td>\n",
       "      <td>No</td>\n",
       "      <td>NaN</td>\n",
       "      <td>$x=3,-9$\\n$\\left[x^{2}+6 x=27, x^{2}+6 x-27=(x...</td>\n",
       "      <td>Yes</td>\n",
       "      <td>Mathematics</td>\n",
       "    </tr>\n",
       "    <tr>\n",
       "      <th>2</th>\n",
       "      <td>3</td>\n",
       "      <td>Yes</td>\n",
       "      <td>Solve the equation for $x$</td>\n",
       "      <td>$\\log _{5}\\left(x^{2}+24 x\\right)=2$,</td>\n",
       "      <td>No</td>\n",
       "      <td>NaN</td>\n",
       "      <td>No</td>\n",
       "      <td>NaN</td>\n",
       "      <td>$x=-25,1$\\n$\\left[x^{2}+24 x=25, x^{2}+24 x-25...</td>\n",
       "      <td>Yes</td>\n",
       "      <td>Mathematics</td>\n",
       "    </tr>\n",
       "    <tr>\n",
       "      <th>3</th>\n",
       "      <td>4</td>\n",
       "      <td>Yes</td>\n",
       "      <td>$\\mathrm{n}$ is a positive integer. Solve for ...</td>\n",
       "      <td>$\\mathrm{nC}_{2}=36 \\quad($ read as ' $\\mathrm...</td>\n",
       "      <td>No</td>\n",
       "      <td>NaN</td>\n",
       "      <td>No</td>\n",
       "      <td>NaN</td>\n",
       "      <td>$\\mathbf{n}=\\mathbf{9}$\\n$\\left[n(n-1) / 2=36,...</td>\n",
       "      <td>Yes</td>\n",
       "      <td>Mathematics</td>\n",
       "    </tr>\n",
       "    <tr>\n",
       "      <th>4</th>\n",
       "      <td>5</td>\n",
       "      <td>Yes</td>\n",
       "      <td>$\\mathrm{n}$ is a positive integer. Solve for ...</td>\n",
       "      <td>$(\\mathrm{n}+1) \\mathrm{C}_{2}=78$</td>\n",
       "      <td>No</td>\n",
       "      <td>NaN</td>\n",
       "      <td>No</td>\n",
       "      <td>NaN</td>\n",
       "      <td>$n=12$\\n$\\left[(n+1) n / 2=(78), n^{2}+n-156=(...</td>\n",
       "      <td>Yes</td>\n",
       "      <td>Mathematics</td>\n",
       "    </tr>\n",
       "  </tbody>\n",
       "</table>\n",
       "</div>"
      ],
      "text/plain": [
       "   S/N Has Preamble                                      Preamble Text  \\\n",
       "0    1          Yes                         Solve the equation for $x$   \n",
       "1    2          Yes                         Solve the equation for $x$   \n",
       "2    3          Yes                         Solve the equation for $x$   \n",
       "3    4          Yes  $\\mathrm{n}$ is a positive integer. Solve for ...   \n",
       "4    5          Yes  $\\mathrm{n}$ is a positive integer. Solve for ...   \n",
       "\n",
       "                                            Question Question has figure  \\\n",
       "0                   $\\log \\left(x^{2}-15 x\\right)=2$                  No   \n",
       "1                $\\log _{3}\\left(x^{2}+6 x\\right)=3$                  No   \n",
       "2              $\\log _{5}\\left(x^{2}+24 x\\right)=2$,                  No   \n",
       "3  $\\mathrm{nC}_{2}=36 \\quad($ read as ' $\\mathrm...                  No   \n",
       "4                 $(\\mathrm{n}+1) \\mathrm{C}_{2}=78$                  No   \n",
       "\n",
       "   Question figure name Answer has figure  Answer figure name  \\\n",
       "0                   NaN                No                 NaN   \n",
       "1                   NaN                No                 NaN   \n",
       "2                   NaN                No                 NaN   \n",
       "3                   NaN                No                 NaN   \n",
       "4                   NaN                No                 NaN   \n",
       "\n",
       "                                              Answer calculations present  \\\n",
       "0  $x=20,-5$\\n$\\left[x^{2}-15 x=100, x^{2}-15 x-1...                  Yes   \n",
       "1  $x=3,-9$\\n$\\left[x^{2}+6 x=27, x^{2}+6 x-27=(x...                  Yes   \n",
       "2  $x=-25,1$\\n$\\left[x^{2}+24 x=25, x^{2}+24 x-25...                  Yes   \n",
       "3  $\\mathbf{n}=\\mathbf{9}$\\n$\\left[n(n-1) / 2=36,...                  Yes   \n",
       "4  $n=12$\\n$\\left[(n+1) n / 2=(78), n^{2}+n-156=(...                  Yes   \n",
       "\n",
       "       Subject  \n",
       "0  Mathematics  \n",
       "1  Mathematics  \n",
       "2  Mathematics  \n",
       "3  Mathematics  \n",
       "4  Mathematics  "
      ]
     },
     "execution_count": 45,
     "metadata": {},
     "output_type": "execute_result"
    }
   ],
   "source": [
    "# read excel data into pandas\n",
    "df = pd.read_excel(\"data/2021/2021 NSMQ contest 9.xlsx\", sheet_name=\"Round 1\")\n",
    "df.head()"
   ]
  },
  {
   "cell_type": "code",
   "execution_count": 46,
   "metadata": {},
   "outputs": [
    {
     "data": {
      "text/html": [
       "<div>\n",
       "<style scoped>\n",
       "    .dataframe tbody tr th:only-of-type {\n",
       "        vertical-align: middle;\n",
       "    }\n",
       "\n",
       "    .dataframe tbody tr th {\n",
       "        vertical-align: top;\n",
       "    }\n",
       "\n",
       "    .dataframe thead th {\n",
       "        text-align: right;\n",
       "    }\n",
       "</style>\n",
       "<table border=\"1\" class=\"dataframe\">\n",
       "  <thead>\n",
       "    <tr style=\"text-align: right;\">\n",
       "      <th></th>\n",
       "      <th>S/N</th>\n",
       "      <th>Has Preamble</th>\n",
       "      <th>Preamble Text</th>\n",
       "      <th>Question</th>\n",
       "      <th>Question has figure</th>\n",
       "      <th>Question figure name</th>\n",
       "      <th>Answer has figure</th>\n",
       "      <th>Answer figure name</th>\n",
       "      <th>Answer</th>\n",
       "      <th>calculations present</th>\n",
       "      <th>Subject</th>\n",
       "      <th>due</th>\n",
       "      <th>stability</th>\n",
       "      <th>difficulty</th>\n",
       "      <th>elapsed_days</th>\n",
       "      <th>scheduled_days</th>\n",
       "      <th>reps</th>\n",
       "      <th>lapses</th>\n",
       "      <th>state</th>\n",
       "    </tr>\n",
       "  </thead>\n",
       "  <tbody>\n",
       "    <tr>\n",
       "      <th>0</th>\n",
       "      <td>1</td>\n",
       "      <td>Yes</td>\n",
       "      <td>Solve the equation for $x$</td>\n",
       "      <td>$\\log \\left(x^{2}-15 x\\right)=2$</td>\n",
       "      <td>No</td>\n",
       "      <td>NaN</td>\n",
       "      <td>No</td>\n",
       "      <td>NaN</td>\n",
       "      <td>$x=20,-5$\\n$\\left[x^{2}-15 x=100, x^{2}-15 x-1...</td>\n",
       "      <td>Yes</td>\n",
       "      <td>Mathematics</td>\n",
       "      <td>None</td>\n",
       "      <td>0</td>\n",
       "      <td>0</td>\n",
       "      <td>0</td>\n",
       "      <td>0</td>\n",
       "      <td>0</td>\n",
       "      <td>0</td>\n",
       "      <td>None</td>\n",
       "    </tr>\n",
       "    <tr>\n",
       "      <th>1</th>\n",
       "      <td>2</td>\n",
       "      <td>Yes</td>\n",
       "      <td>Solve the equation for $x$</td>\n",
       "      <td>$\\log _{3}\\left(x^{2}+6 x\\right)=3$</td>\n",
       "      <td>No</td>\n",
       "      <td>NaN</td>\n",
       "      <td>No</td>\n",
       "      <td>NaN</td>\n",
       "      <td>$x=3,-9$\\n$\\left[x^{2}+6 x=27, x^{2}+6 x-27=(x...</td>\n",
       "      <td>Yes</td>\n",
       "      <td>Mathematics</td>\n",
       "      <td>None</td>\n",
       "      <td>0</td>\n",
       "      <td>0</td>\n",
       "      <td>0</td>\n",
       "      <td>0</td>\n",
       "      <td>0</td>\n",
       "      <td>0</td>\n",
       "      <td>None</td>\n",
       "    </tr>\n",
       "    <tr>\n",
       "      <th>2</th>\n",
       "      <td>3</td>\n",
       "      <td>Yes</td>\n",
       "      <td>Solve the equation for $x$</td>\n",
       "      <td>$\\log _{5}\\left(x^{2}+24 x\\right)=2$,</td>\n",
       "      <td>No</td>\n",
       "      <td>NaN</td>\n",
       "      <td>No</td>\n",
       "      <td>NaN</td>\n",
       "      <td>$x=-25,1$\\n$\\left[x^{2}+24 x=25, x^{2}+24 x-25...</td>\n",
       "      <td>Yes</td>\n",
       "      <td>Mathematics</td>\n",
       "      <td>None</td>\n",
       "      <td>0</td>\n",
       "      <td>0</td>\n",
       "      <td>0</td>\n",
       "      <td>0</td>\n",
       "      <td>0</td>\n",
       "      <td>0</td>\n",
       "      <td>None</td>\n",
       "    </tr>\n",
       "    <tr>\n",
       "      <th>3</th>\n",
       "      <td>4</td>\n",
       "      <td>Yes</td>\n",
       "      <td>$\\mathrm{n}$ is a positive integer. Solve for ...</td>\n",
       "      <td>$\\mathrm{nC}_{2}=36 \\quad($ read as ' $\\mathrm...</td>\n",
       "      <td>No</td>\n",
       "      <td>NaN</td>\n",
       "      <td>No</td>\n",
       "      <td>NaN</td>\n",
       "      <td>$\\mathbf{n}=\\mathbf{9}$\\n$\\left[n(n-1) / 2=36,...</td>\n",
       "      <td>Yes</td>\n",
       "      <td>Mathematics</td>\n",
       "      <td>None</td>\n",
       "      <td>0</td>\n",
       "      <td>0</td>\n",
       "      <td>0</td>\n",
       "      <td>0</td>\n",
       "      <td>0</td>\n",
       "      <td>0</td>\n",
       "      <td>None</td>\n",
       "    </tr>\n",
       "    <tr>\n",
       "      <th>4</th>\n",
       "      <td>5</td>\n",
       "      <td>Yes</td>\n",
       "      <td>$\\mathrm{n}$ is a positive integer. Solve for ...</td>\n",
       "      <td>$(\\mathrm{n}+1) \\mathrm{C}_{2}=78$</td>\n",
       "      <td>No</td>\n",
       "      <td>NaN</td>\n",
       "      <td>No</td>\n",
       "      <td>NaN</td>\n",
       "      <td>$n=12$\\n$\\left[(n+1) n / 2=(78), n^{2}+n-156=(...</td>\n",
       "      <td>Yes</td>\n",
       "      <td>Mathematics</td>\n",
       "      <td>None</td>\n",
       "      <td>0</td>\n",
       "      <td>0</td>\n",
       "      <td>0</td>\n",
       "      <td>0</td>\n",
       "      <td>0</td>\n",
       "      <td>0</td>\n",
       "      <td>None</td>\n",
       "    </tr>\n",
       "  </tbody>\n",
       "</table>\n",
       "</div>"
      ],
      "text/plain": [
       "   S/N Has Preamble                                      Preamble Text  \\\n",
       "0    1          Yes                         Solve the equation for $x$   \n",
       "1    2          Yes                         Solve the equation for $x$   \n",
       "2    3          Yes                         Solve the equation for $x$   \n",
       "3    4          Yes  $\\mathrm{n}$ is a positive integer. Solve for ...   \n",
       "4    5          Yes  $\\mathrm{n}$ is a positive integer. Solve for ...   \n",
       "\n",
       "                                            Question Question has figure  \\\n",
       "0                   $\\log \\left(x^{2}-15 x\\right)=2$                  No   \n",
       "1                $\\log _{3}\\left(x^{2}+6 x\\right)=3$                  No   \n",
       "2              $\\log _{5}\\left(x^{2}+24 x\\right)=2$,                  No   \n",
       "3  $\\mathrm{nC}_{2}=36 \\quad($ read as ' $\\mathrm...                  No   \n",
       "4                 $(\\mathrm{n}+1) \\mathrm{C}_{2}=78$                  No   \n",
       "\n",
       "   Question figure name Answer has figure  Answer figure name  \\\n",
       "0                   NaN                No                 NaN   \n",
       "1                   NaN                No                 NaN   \n",
       "2                   NaN                No                 NaN   \n",
       "3                   NaN                No                 NaN   \n",
       "4                   NaN                No                 NaN   \n",
       "\n",
       "                                              Answer calculations present  \\\n",
       "0  $x=20,-5$\\n$\\left[x^{2}-15 x=100, x^{2}-15 x-1...                  Yes   \n",
       "1  $x=3,-9$\\n$\\left[x^{2}+6 x=27, x^{2}+6 x-27=(x...                  Yes   \n",
       "2  $x=-25,1$\\n$\\left[x^{2}+24 x=25, x^{2}+24 x-25...                  Yes   \n",
       "3  $\\mathbf{n}=\\mathbf{9}$\\n$\\left[n(n-1) / 2=36,...                  Yes   \n",
       "4  $n=12$\\n$\\left[(n+1) n / 2=(78), n^{2}+n-156=(...                  Yes   \n",
       "\n",
       "       Subject   due  stability  difficulty  elapsed_days  scheduled_days  \\\n",
       "0  Mathematics  None          0           0             0               0   \n",
       "1  Mathematics  None          0           0             0               0   \n",
       "2  Mathematics  None          0           0             0               0   \n",
       "3  Mathematics  None          0           0             0               0   \n",
       "4  Mathematics  None          0           0             0               0   \n",
       "\n",
       "   reps  lapses state  \n",
       "0     0       0  None  \n",
       "1     0       0  None  \n",
       "2     0       0  None  \n",
       "3     0       0  None  \n",
       "4     0       0  None  "
      ]
     },
     "execution_count": 46,
     "metadata": {},
     "output_type": "execute_result"
    }
   ],
   "source": [
    "card_columns = {\n",
    "    \"due\": None,\n",
    "    \"stability\": 0,\n",
    "    \"difficulty\": 0,\n",
    "    \"elapsed_days\": 0,\n",
    "    \"scheduled_days\": 0,\n",
    "    \"reps\": 0,\n",
    "    \"lapses\": 0,\n",
    "    \"state\": None,\n",
    "}\n",
    "\n",
    "df = df.assign(**card_columns)\n",
    "df.head()"
   ]
  },
  {
   "cell_type": "code",
   "execution_count": 47,
   "metadata": {},
   "outputs": [
    {
     "data": {
      "text/plain": [
       "['S/N',\n",
       " 'Has Preamble',\n",
       " 'Preamble Text',\n",
       " 'Question',\n",
       " 'Question has figure',\n",
       " 'Question figure name',\n",
       " 'Answer has figure',\n",
       " 'Answer figure name',\n",
       " 'Answer',\n",
       " 'calculations present',\n",
       " 'Subject',\n",
       " 'due',\n",
       " 'stability',\n",
       " 'difficulty',\n",
       " 'elapsed_days',\n",
       " 'scheduled_days',\n",
       " 'reps',\n",
       " 'lapses',\n",
       " 'state']"
      ]
     },
     "execution_count": 47,
     "metadata": {},
     "output_type": "execute_result"
    }
   ],
   "source": [
    "df_columns = df.columns.to_list()\n",
    "df_columns"
   ]
  },
  {
   "cell_type": "markdown",
   "metadata": {},
   "source": [
    "# Creating the database functions\n"
   ]
  },
  {
   "cell_type": "code",
   "execution_count": 115,
   "metadata": {},
   "outputs": [
    {
     "data": {
      "text/plain": [
       "['Question_number',\n",
       " 'Has Preamble',\n",
       " 'Preamble Text',\n",
       " 'Question',\n",
       " 'Question has figure',\n",
       " 'Question figure name',\n",
       " 'Answer has figure',\n",
       " 'Answer figure name',\n",
       " 'Answer',\n",
       " 'calculations present',\n",
       " 'Subject',\n",
       " 'due',\n",
       " 'stability',\n",
       " 'difficulty',\n",
       " 'elapsed_days',\n",
       " 'scheduled_days',\n",
       " 'reps',\n",
       " 'lapses',\n",
       " 'state']"
      ]
     },
     "execution_count": 115,
     "metadata": {},
     "output_type": "execute_result"
    }
   ],
   "source": [
    "df.columns.to_list()"
   ]
  },
  {
   "cell_type": "code",
   "execution_count": 8,
   "metadata": {},
   "outputs": [],
   "source": [
    "import sqlite3\n",
    "from contextlib import contextmanager\n",
    "from sqlite3 import Error\n",
    "\n",
    "DB_NAME = \"flashcard_ai.db\"\n",
    "\n",
    "\n",
    "@contextmanager\n",
    "def get_db():\n",
    "    # create db connection\n",
    "    try:\n",
    "        conn = sqlite3.connect(DB_NAME)\n",
    "        yield conn\n",
    "    except Error as e:\n",
    "        raise\n",
    "    finally:\n",
    "        if conn:\n",
    "            conn.close()\n",
    "\n",
    "\n",
    "def update_flashcard(\n",
    "    id_,\n",
    "    due,\n",
    "    stability,\n",
    "    difficulty,\n",
    "    elapsed_days,\n",
    "    scheduled_days,\n",
    "    reps,\n",
    "    lapses,\n",
    "    state,\n",
    "):\n",
    "    with get_db() as conn:\n",
    "        cur = conn.cursor()\n",
    "        try:\n",
    "            cur.execute(\n",
    "                \"UPDATE flashcards SET due = ?, stability = ?, difficulty = ?, elapsed_days = ?, scheduled_days = ?, reps = ?, lapses = ?, state = ? WHERE rowid = ?\",\n",
    "                (\n",
    "                    due,\n",
    "                    stability,\n",
    "                    difficulty,\n",
    "                    elapsed_days,\n",
    "                    scheduled_days,\n",
    "                    reps,\n",
    "                    lapses,\n",
    "                    state,\n",
    "                    id_,\n",
    "                ),\n",
    "            )\n",
    "            conn.commit()\n",
    "        except Error as e:\n",
    "            raise\n",
    "\n",
    "\n",
    "def select_flashcard_by_id(id):\n",
    "    with get_db() as conn:\n",
    "        cur = conn.cursor()\n",
    "        try:\n",
    "            cur.execute(\"SELECT * FROM flashcards WHERE rowid = ?\", (id,))\n",
    "            for row in cur:\n",
    "                return dict(\n",
    "                    (column[0], row[index])\n",
    "                    for index, column in enumerate(cur.description)\n",
    "                )\n",
    "        except Error as e:\n",
    "            raise\n",
    "\n",
    "\n",
    "def select_all_flashcards():\n",
    "    with get_db() as conn:\n",
    "        cur = conn.cursor()\n",
    "        try:\n",
    "            cur.execute(\"SELECT * FROM flashcards\")\n",
    "            return cur.fetchall()\n",
    "        except Error as e:\n",
    "            raise"
   ]
  },
  {
   "cell_type": "code",
   "execution_count": 10,
   "metadata": {},
   "outputs": [
    {
     "data": {
      "text/plain": [
       "{'Question_number': 1,\n",
       " 'Has Preamble': 'Yes',\n",
       " 'Preamble Text': 'Solve for $x$ in the equation',\n",
       " 'Question': '$3 \\\\log x+\\\\log 3=\\\\log 81$',\n",
       " 'Question has figure': 'No',\n",
       " 'Question figure name': None,\n",
       " 'Answer has figure': 'No',\n",
       " 'Answer figure name': None,\n",
       " 'Answer': '$\\\\mathrm{x}=3 \\\\quad\\\\left[\\\\log 3 \\\\mathrm{x}^{3}=\\\\log 81,3 \\\\mathrm{x}^{2}=81, \\\\mathrm{x}^{3}=27\\\\right.$ and $\\\\left.\\\\mathrm{x}=3\\\\right]$',\n",
       " 'calculations present': 'Yes',\n",
       " 'Subject': 'Mathematics',\n",
       " 'year': '2013',\n",
       " 'round': 'Round 1',\n",
       " 'due': None,\n",
       " 'stability': 0,\n",
       " 'difficulty': 0,\n",
       " 'elapsed_days': 0,\n",
       " 'scheduled_days': 0,\n",
       " 'reps': 0,\n",
       " 'lapses': 0,\n",
       " 'state': None}"
      ]
     },
     "execution_count": 10,
     "metadata": {},
     "output_type": "execute_result"
    }
   ],
   "source": [
    "select_flashcard_by_id(1)"
   ]
  },
  {
   "cell_type": "code",
   "execution_count": 12,
   "metadata": {},
   "outputs": [
    {
     "name": "stdout",
     "output_type": "stream",
     "text": [
      "{'Question_number': 1, 'Has Preamble': 'Yes', 'Preamble Text': 'Solve for $x$ in the equation', 'Question': '$3 \\\\log x+\\\\log 3=\\\\log 81$', 'Question has figure': 'No', 'Question figure name': None, 'Answer has figure': 'No', 'Answer figure name': None, 'Answer': '$\\\\mathrm{x}=3 \\\\quad\\\\left[\\\\log 3 \\\\mathrm{x}^{3}=\\\\log 81,3 \\\\mathrm{x}^{2}=81, \\\\mathrm{x}^{3}=27\\\\right.$ and $\\\\left.\\\\mathrm{x}=3\\\\right]$', 'calculations present': 'Yes', 'Subject': 'Mathematics', 'year': '2013', 'round': 'Round 1', 'due': None, 'stability': 0, 'difficulty': 0, 'elapsed_days': 0, 'scheduled_days': 0, 'reps': 0, 'lapses': 0, 'state': None}\n"
     ]
    },
    {
     "data": {
      "text/plain": [
       "{'Question_number': 1,\n",
       " 'Has Preamble': 'Yes',\n",
       " 'Preamble Text': 'Solve for $x$ in the equation',\n",
       " 'Question': '$3 \\\\log x+\\\\log 3=\\\\log 81$',\n",
       " 'Question has figure': 'No',\n",
       " 'Question figure name': None,\n",
       " 'Answer has figure': 'No',\n",
       " 'Answer figure name': None,\n",
       " 'Answer': '$\\\\mathrm{x}=3 \\\\quad\\\\left[\\\\log 3 \\\\mathrm{x}^{3}=\\\\log 81,3 \\\\mathrm{x}^{2}=81, \\\\mathrm{x}^{3}=27\\\\right.$ and $\\\\left.\\\\mathrm{x}=3\\\\right]$',\n",
       " 'calculations present': 'Yes',\n",
       " 'Subject': 'Mathematics',\n",
       " 'year': '2013',\n",
       " 'round': 'Round 1',\n",
       " 'due': '2023-01-01 00:00:00',\n",
       " 'stability': 1,\n",
       " 'difficulty': 1,\n",
       " 'elapsed_days': 1,\n",
       " 'scheduled_days': 1,\n",
       " 'reps': 1,\n",
       " 'lapses': 1,\n",
       " 'state': None}"
      ]
     },
     "execution_count": 12,
     "metadata": {},
     "output_type": "execute_result"
    }
   ],
   "source": [
    "print(select_flashcard_by_id(1))\n",
    "update_flashcard(\n",
    "    1,\n",
    "    \"2023-01-01 00:00:00\",\n",
    "    1,\n",
    "    1,\n",
    "    1,\n",
    "    1,\n",
    "    1,\n",
    "    1,\n",
    "    None,\n",
    ")\n",
    "select_flashcard_by_id(1)"
   ]
  },
  {
   "cell_type": "code",
   "execution_count": 13,
   "metadata": {},
   "outputs": [
    {
     "name": "stdout",
     "output_type": "stream",
     "text": [
      "{'Question_number': 11, 'Has Preamble': 'Yes', 'Preamble Text': 'Fill in the blanks:', 'Question': 'The sum total of chromosomes in a given type of cell is referred to as.', 'Question has figure': 'No', 'Question figure name': None, 'Answer has figure': 'No', 'Answer figure name': None, 'Answer': 'Chromosome number', 'calculations present': 'No', 'Subject': 'Biology', 'year': '2013', 'round': 'Round 1', 'due': None, 'stability': 0, 'difficulty': 0, 'elapsed_days': 0, 'scheduled_days': 0, 'reps': 0, 'lapses': 0, 'state': None}\n"
     ]
    }
   ],
   "source": [
    "current_card = select_flashcard_by_id(11)\n",
    "flashcard_params = [\n",
    "    \"Has Preamble\",\n",
    "    \"Preamble Text\",\n",
    "    \"Question\",\n",
    "    \"Answer\",\n",
    "    \"due\",\n",
    "    \"stability\",\n",
    "    \"difficulty\",\n",
    "    \"elapsed_days\",\n",
    "    \"scheduled_days\",\n",
    "    \"reps\",\n",
    "    \"lapses\",\n",
    "    \"state\",\n",
    "]\n",
    "[current_card[param] for param in flashcard_params]\n",
    "print(current_card)"
   ]
  },
  {
   "cell_type": "code",
   "execution_count": 14,
   "metadata": {},
   "outputs": [
    {
     "data": {
      "text/plain": [
       "'Fill in the blanks:'"
      ]
     },
     "execution_count": 14,
     "metadata": {},
     "output_type": "execute_result"
    }
   ],
   "source": [
    "current_card[\"Preamble Text\"]"
   ]
  },
  {
   "cell_type": "markdown",
   "metadata": {},
   "source": [
    "# Implementing Spaced Repetition thingy"
   ]
  },
  {
   "cell_type": "code",
   "execution_count": 15,
   "metadata": {},
   "outputs": [],
   "source": [
    "from fsrs import *\n",
    "from datetime import datetime, UTC\n",
    "import pytz"
   ]
  },
  {
   "cell_type": "code",
   "execution_count": 16,
   "metadata": {},
   "outputs": [],
   "source": [
    "# create a flashcard class that inherits from the fsrs card class\n",
    "class flashcard(Card):\n",
    "    def __init__(self, has_preamble, preamble_text, question, answer, *args, **kwargs):\n",
    "        super().__init__()\n",
    "        if has_preamble == \"Yes\":\n",
    "            self.has_preamble = True\n",
    "        else:\n",
    "            self.has_preamble = False\n",
    "        self.preamble_text = preamble_text\n",
    "        self.question = question\n",
    "        self.answer = answer\n",
    "\n",
    "    def __repr__(self):\n",
    "        if self.has_preamble:\n",
    "            return f\"\"\"Card: \n",
    "                preamble: {self.preamble_text} \n",
    "                question: {self.question} \n",
    "                answer: {self.answer} \n",
    "                due: {self.due} \n",
    "                stability: {self.stability}\n",
    "                difficulty: {self.difficulty}\n",
    "                elapsed_days:{self.elapsed_days}\n",
    "                scheduled_days: {self.scheduled_days}\n",
    "                reps: {self.reps}\n",
    "                laspes: {self.lapses}\n",
    "                state: {self.state}\n",
    "            \"\"\"\n",
    "        else:\n",
    "            return f\"\"\"Card: \n",
    "                    question: {self.question} \n",
    "                    answer: {self.answer} \n",
    "                    due: {self.due} \n",
    "                    stability: {self.stability}\n",
    "                    difficulty: {self.difficulty}\n",
    "                    elapsed_days:{self.elapsed_days}\n",
    "                    scheduled_days: {self.scheduled_days}\n",
    "                    reps: {self.reps}\n",
    "                    laspes: {self.lapses}\n",
    "                    state: {self.state}\n",
    "                \"\"\""
   ]
  },
  {
   "cell_type": "code",
   "execution_count": 17,
   "metadata": {},
   "outputs": [
    {
     "name": "stdout",
     "output_type": "stream",
     "text": [
      "{'Question_number': 16, 'Has Preamble': 'Yes', 'Preamble Text': 'The specific heat capacity of water is $4.19 \\\\mathrm{~kJ} / \\\\mathrm{kg} \\\\cdot \\\\mathrm{K} 4.19 \\\\mathrm{~kJ} / \\\\mathrm{kg} \\\\cdot \\\\mathrm{K}$, the heat of fusion of ice is $334 \\\\mathrm{~kJ} / \\\\mathrm{kg} 334 \\\\mathrm{~kJ} / \\\\mathrm{kg}$, and the heat of vaporization of water is $2.26 \\\\frac{\\\\mathrm{MJ}}{\\\\mathrm{kg}} 2.26 \\\\frac{\\\\mathrm{MJ}}{\\\\mathrm{kg}}$.', 'Question': 'How much heat is required to just melt $100 \\\\mathrm{~g}$ of ice?', 'Question has figure': 'No', 'Question figure name': None, 'Answer has figure': 'No', 'Answer figure name': None, 'Answer': '$33.4 \\\\mathrm{~kJ} 33.4 \\\\mathrm{~kJ}$\\n$\\\\mathrm{IQI}=m L_{f}=0.1 \\\\mathrm{~kg} \\\\times 334 \\\\mathrm{~kJ} / \\\\mathrm{kg}=33.4 \\\\mathrm{~kJ}$', 'calculations present': 'Yes', 'Subject': 'Physics', 'year': '2013', 'round': 'Round 1', 'due': None, 'stability': 0, 'difficulty': 0, 'elapsed_days': 0, 'scheduled_days': 0, 'reps': 0, 'lapses': 0, 'state': None}\n",
      "Card: \n",
      "                preamble: The specific heat capacity of water is $4.19 \\mathrm{~kJ} / \\mathrm{kg} \\cdot \\mathrm{K} 4.19 \\mathrm{~kJ} / \\mathrm{kg} \\cdot \\mathrm{K}$, the heat of fusion of ice is $334 \\mathrm{~kJ} / \\mathrm{kg} 334 \\mathrm{~kJ} / \\mathrm{kg}$, and the heat of vaporization of water is $2.26 \\frac{\\mathrm{MJ}}{\\mathrm{kg}} 2.26 \\frac{\\mathrm{MJ}}{\\mathrm{kg}}$. \n",
      "                question: How much heat is required to just melt $100 \\mathrm{~g}$ of ice? \n",
      "                answer: $33.4 \\mathrm{~kJ} 33.4 \\mathrm{~kJ}$\n",
      "$\\mathrm{IQI}=m L_{f}=0.1 \\mathrm{~kg} \\times 334 \\mathrm{~kJ} / \\mathrm{kg}=33.4 \\mathrm{~kJ}$ \n",
      "                due: 2024-06-11 15:27:31.171116+00:00 \n",
      "                stability: 0\n",
      "                difficulty: 0\n",
      "                elapsed_days:0\n",
      "                scheduled_days: 0\n",
      "                reps: 0\n",
      "                laspes: 0\n",
      "                state: 0\n",
      "             <fsrs.fsrs.FSRS object at 0x11845dc10>\n"
     ]
    }
   ],
   "source": [
    "# testing flashcard class\n",
    "current_card = select_flashcard_by_id(16)\n",
    "flashcard_params = [\n",
    "    \"Has Preamble\",\n",
    "    \"Preamble Text\",\n",
    "    \"Question\",\n",
    "    \"Answer\",\n",
    "    \"due\",\n",
    "    \"stability\",\n",
    "    \"difficulty\",\n",
    "    \"elapsed_days\",\n",
    "    \"scheduled_days\",\n",
    "    \"reps\",\n",
    "    \"lapses\",\n",
    "    \"state\",\n",
    "]\n",
    "params_list = [current_card[param] for param in flashcard_params]\n",
    "print(current_card)\n",
    "\n",
    "f = FSRS()\n",
    "flashcard1 = flashcard(*params_list)\n",
    "print(flashcard1, f)"
   ]
  },
  {
   "cell_type": "code",
   "execution_count": 18,
   "metadata": {},
   "outputs": [],
   "source": [
    "def review_card(flashcard, time):\n",
    "    # set the due time to now\n",
    "    time = datetime.now(tz=UTC)\n",
    "    scheduling_cards = f.repeat(flashcard, time)\n",
    "    return scheduling_cards\n",
    "\n",
    "\n",
    "def rate_easy(scheduling_cards):\n",
    "    card_easy = scheduling_cards[Rating.Easy].card\n",
    "    return card_easy\n",
    "\n",
    "\n",
    "def rate_good(scheduling_cards):\n",
    "    card_good = scheduling_cards[Rating.Good].card\n",
    "    return card_good\n",
    "\n",
    "\n",
    "def rate_hard(scheduling_cards):\n",
    "    card_hard = scheduling_cards[Rating.Hard].card\n",
    "    return card_hard\n",
    "\n",
    "\n",
    "def rate_again(scheduling_cards):\n",
    "    card_again = scheduling_cards[Rating.Again].card\n",
    "    return card_again"
   ]
  },
  {
   "cell_type": "code",
   "execution_count": 19,
   "metadata": {},
   "outputs": [
    {
     "data": {
      "text/plain": [
       "{<Rating.Again: 1>: <fsrs.models.SchedulingInfo at 0x11884fdd0>,\n",
       " <Rating.Hard: 2>: <fsrs.models.SchedulingInfo at 0x10869aad0>,\n",
       " <Rating.Good: 3>: <fsrs.models.SchedulingInfo at 0x1192190d0>,\n",
       " <Rating.Easy: 4>: <fsrs.models.SchedulingInfo at 0x119219090>}"
      ]
     },
     "execution_count": 19,
     "metadata": {},
     "output_type": "execute_result"
    }
   ],
   "source": [
    "scheduling_cards = review_card(flashcard1, datetime.now(tz=UTC))\n",
    "scheduling_cards"
   ]
  },
  {
   "cell_type": "code",
   "execution_count": 20,
   "metadata": {},
   "outputs": [
    {
     "data": {
      "text/plain": [
       "Card: \n",
       "                preamble: The specific heat capacity of water is $4.19 \\mathrm{~kJ} / \\mathrm{kg} \\cdot \\mathrm{K} 4.19 \\mathrm{~kJ} / \\mathrm{kg} \\cdot \\mathrm{K}$, the heat of fusion of ice is $334 \\mathrm{~kJ} / \\mathrm{kg} 334 \\mathrm{~kJ} / \\mathrm{kg}$, and the heat of vaporization of water is $2.26 \\frac{\\mathrm{MJ}}{\\mathrm{kg}} 2.26 \\frac{\\mathrm{MJ}}{\\mathrm{kg}}$. \n",
       "                question: How much heat is required to just melt $100 \\mathrm{~g}$ of ice? \n",
       "                answer: $33.4 \\mathrm{~kJ} 33.4 \\mathrm{~kJ}$\n",
       "$\\mathrm{IQI}=m L_{f}=0.1 \\mathrm{~kg} \\times 334 \\mathrm{~kJ} / \\mathrm{kg}=33.4 \\mathrm{~kJ}$ \n",
       "                due: 2024-06-17 15:27:44.277809+00:00 \n",
       "                stability: 5.8\n",
       "                difficulty: 3.9899999999999998\n",
       "                elapsed_days:0\n",
       "                scheduled_days: 6\n",
       "                reps: 1\n",
       "                laspes: 0\n",
       "                state: 2\n",
       "            "
      ]
     },
     "execution_count": 20,
     "metadata": {},
     "output_type": "execute_result"
    }
   ],
   "source": [
    "new_card = rate_easy(scheduling_cards)\n",
    "new_card"
   ]
  },
  {
   "cell_type": "code",
   "execution_count": 22,
   "metadata": {},
   "outputs": [
    {
     "data": {
      "text/plain": [
       "__main__.flashcard"
      ]
     },
     "execution_count": 22,
     "metadata": {},
     "output_type": "execute_result"
    }
   ],
   "source": [
    "type(new_card)"
   ]
  },
  {
   "cell_type": "code",
   "execution_count": 194,
   "metadata": {},
   "outputs": [
    {
     "data": {
      "text/plain": [
       "8"
      ]
     },
     "execution_count": 194,
     "metadata": {},
     "output_type": "execute_result"
    }
   ],
   "source": [
    "scheduling_new_card = review_card(new_card, datetime.now(tz=UTC))\n",
    "nnew_card = rate_easy(scheduling_new_card)\n",
    "nnew_card.scheduled_days"
   ]
  },
  {
   "cell_type": "code",
   "execution_count": 198,
   "metadata": {},
   "outputs": [
    {
     "data": {
      "text/plain": [
       "0"
      ]
     },
     "execution_count": 198,
     "metadata": {},
     "output_type": "execute_result"
    }
   ],
   "source": [
    "scheduling_new_card = review_card(nnew_card, datetime.now(tz=UTC))\n",
    "nnnew_card = rate_again(scheduling_new_card)\n",
    "nnnew_card.scheduled_days"
   ]
  },
  {
   "cell_type": "code",
   "execution_count": 1,
   "metadata": {},
   "outputs": [
    {
     "ename": "NameError",
     "evalue": "name 'nnnew_card' is not defined",
     "output_type": "error",
     "traceback": [
      "\u001b[0;31m---------------------------------------------------------------------------\u001b[0m",
      "\u001b[0;31mNameError\u001b[0m                                 Traceback (most recent call last)",
      "Cell \u001b[0;32mIn[1], line 1\u001b[0m\n\u001b[0;32m----> 1\u001b[0m \u001b[43mnnnew_card\u001b[49m\n",
      "\u001b[0;31mNameError\u001b[0m: name 'nnnew_card' is not defined"
     ]
    }
   ],
   "source": [
    "nnnew_card"
   ]
  },
  {
   "cell_type": "code",
   "execution_count": 207,
   "metadata": {},
   "outputs": [
    {
     "data": {
      "text/plain": [
       "1"
      ]
     },
     "execution_count": 207,
     "metadata": {},
     "output_type": "execute_result"
    }
   ],
   "source": [
    "nnnew_card.lapses"
   ]
  },
  {
   "cell_type": "code",
   "execution_count": 205,
   "metadata": {},
   "outputs": [
    {
     "data": {
      "text/plain": [
       "{'Question_number': 16,\n",
       " 'Has Preamble': 'No',\n",
       " 'Preamble Text': None,\n",
       " 'Question': 'Find the magnitude of the impedance of a series ac circuit whose resistance is $28 \\\\Omega$ and whose reactance has a magnitude of $45 \\\\Omega$.',\n",
       " 'Question has figure': 'No',\n",
       " 'Question figure name': None,\n",
       " 'Answer has figure': 'No',\n",
       " 'Answer figure name': None,\n",
       " 'Answer': '$53 \\\\Omega$',\n",
       " 'calculations present': 'Yes',\n",
       " 'Subject': 'Physics',\n",
       " 'due': None,\n",
       " 'stability': 0,\n",
       " 'difficulty': 0,\n",
       " 'elapsed_days': 0,\n",
       " 'scheduled_days': 0,\n",
       " 'reps': 0,\n",
       " 'lapses': 0,\n",
       " 'state': None}"
      ]
     },
     "execution_count": 205,
     "metadata": {},
     "output_type": "execute_result"
    }
   ],
   "source": [
    "flashcard_params = [\n",
    "    \"Has Preamble\",\n",
    "    \"Preamble Text\",\n",
    "    \"Question\",\n",
    "    \"Answer\",\n",
    "    \"due\",\n",
    "    \"stability\",\n",
    "    \"difficulty\",\n",
    "    \"elapsed_days\",\n",
    "    \"scheduled_days\",\n",
    "    \"reps\",\n",
    "    \"lapses\",\n",
    "    \"state\",\n",
    "]\n",
    "current_card"
   ]
  },
  {
   "cell_type": "code",
   "execution_count": 209,
   "metadata": {},
   "outputs": [
    {
     "data": {
      "text/plain": [
       "{'Question_number': 16,\n",
       " 'Has Preamble': 'No',\n",
       " 'Preamble Text': None,\n",
       " 'Question': 'Find the magnitude of the impedance of a series ac circuit whose resistance is $28 \\\\Omega$ and whose reactance has a magnitude of $45 \\\\Omega$.',\n",
       " 'Question has figure': 'No',\n",
       " 'Question figure name': None,\n",
       " 'Answer has figure': 'No',\n",
       " 'Answer figure name': None,\n",
       " 'Answer': '$53 \\\\Omega$',\n",
       " 'calculations present': 'Yes',\n",
       " 'Subject': 'Physics',\n",
       " 'due': datetime.datetime(2024, 6, 11, 18, 21, 42, 758767, tzinfo=datetime.timezone.utc),\n",
       " 'stability': 5.8,\n",
       " 'difficulty': 3.9899999999999998,\n",
       " 'elapsed_days': 0,\n",
       " 'scheduled_days': 6,\n",
       " 'reps': 1,\n",
       " 'lapses': 0,\n",
       " 'state': <State.Review: 2>}"
      ]
     },
     "execution_count": 209,
     "metadata": {},
     "output_type": "execute_result"
    }
   ],
   "source": [
    "def update_card_params(flashcard, card_dict):\n",
    "    card_dict.update(\n",
    "        {\n",
    "            \"due\": flashcard.due,\n",
    "            \"stability\": flashcard.stability,\n",
    "            \"difficulty\": flashcard.difficulty,\n",
    "            \"elapsed_days\": flashcard.elapsed_days,\n",
    "            \"scheduled_days\": flashcard.scheduled_days,\n",
    "            \"reps\": flashcard.reps,\n",
    "            \"lapses\": flashcard.lapses,\n",
    "            \"state\": flashcard.state,\n",
    "        }\n",
    "    )\n",
    "    return card_dict\n",
    "\n",
    "\n",
    "update_card_params(new_card, current_card)"
   ]
  },
  {
   "cell_type": "code",
   "execution_count": 181,
   "metadata": {},
   "outputs": [
    {
     "data": {
      "text/plain": [
       "{<Rating.Again: 1>: <fsrs.models.SchedulingInfo at 0x13793d010>,\n",
       " <Rating.Hard: 2>: <fsrs.models.SchedulingInfo at 0x16548f1d0>,\n",
       " <Rating.Good: 3>: <fsrs.models.SchedulingInfo at 0x16548e590>,\n",
       " <Rating.Easy: 4>: <fsrs.models.SchedulingInfo at 0x16548f610>}"
      ]
     },
     "execution_count": 181,
     "metadata": {},
     "output_type": "execute_result"
    }
   ],
   "source": [
    "now = datetime.now(tz=UTC)\n",
    "scheduling_cards = f.repeat(flashcard1, now)\n",
    "scheduling_cards[Rating.Easy].card"
   ]
  },
  {
   "cell_type": "code",
   "execution_count": 186,
   "metadata": {},
   "outputs": [
    {
     "data": {
      "text/plain": [
       "6"
      ]
     },
     "execution_count": 186,
     "metadata": {},
     "output_type": "execute_result"
    }
   ],
   "source": [
    "flashcard_easy = scheduling_cards[Rating.Easy].card\n",
    "flashcard_easy.scheduled_days"
   ]
  },
  {
   "cell_type": "code",
   "execution_count": 187,
   "metadata": {},
   "outputs": [
    {
     "data": {
      "text/plain": [
       "datetime.datetime(2024, 6, 11, 17, 0, 51, 323386, tzinfo=datetime.timezone.utc)"
      ]
     },
     "execution_count": 187,
     "metadata": {},
     "output_type": "execute_result"
    }
   ],
   "source": [
    "card_easy = scheduling_cards[Rating.Easy].card\n",
    "card_easy.due"
   ]
  },
  {
   "cell_type": "code",
   "execution_count": 44,
   "metadata": {},
   "outputs": [
    {
     "name": "stdout",
     "output_type": "stream",
     "text": [
      "<fsrs.models.ReviewLog object at 0x10a54cd90>\n"
     ]
    }
   ],
   "source": [
    "scheduling_cards[Rating.Easy].review_log"
   ]
  },
  {
   "cell_type": "code",
   "execution_count": 189,
   "metadata": {},
   "outputs": [
    {
     "name": "stdout",
     "output_type": "stream",
     "text": [
      "2\n",
      "2024-06-13 17:00:51.323386+00:00\n"
     ]
    }
   ],
   "source": [
    "scheduling_cards = f.repeat(card_easy, now)\n",
    "print(scheduling_cards[Rating.Easy].card.state)\n",
    "print(scheduling_cards[Rating.Easy].card.due)"
   ]
  },
  {
   "cell_type": "code",
   "execution_count": null,
   "metadata": {},
   "outputs": [],
   "source": []
  }
 ],
 "metadata": {
  "kernelspec": {
   "display_name": "env",
   "language": "python",
   "name": "python3"
  },
  "language_info": {
   "codemirror_mode": {
    "name": "ipython",
    "version": 3
   },
   "file_extension": ".py",
   "mimetype": "text/x-python",
   "name": "python",
   "nbconvert_exporter": "python",
   "pygments_lexer": "ipython3",
   "version": "3.11.6"
  }
 },
 "nbformat": 4,
 "nbformat_minor": 2
}
